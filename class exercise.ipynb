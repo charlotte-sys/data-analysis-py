{
 "cells": [
  {
   "cell_type": "code",
   "execution_count": 4,
   "id": "201a8bc2",
   "metadata": {},
   "outputs": [
    {
     "ename": "SyntaxError",
     "evalue": "invalid syntax (2753655105.py, line 75)",
     "output_type": "error",
     "traceback": [
      "\u001b[1;36m  Cell \u001b[1;32mIn[4], line 75\u001b[1;36m\u001b[0m\n\u001b[1;33m    git init\u001b[0m\n\u001b[1;37m        ^\u001b[0m\n\u001b[1;31mSyntaxError\u001b[0m\u001b[1;31m:\u001b[0m invalid syntax\n"
     ]
    }
   ],
   "source": [
    "import matplotlib\n",
    "import pandas as pd\n",
    "import numpy as np\n",
    "import matplotlib.pyplot as plt\n",
    "matplotlib.use('TkAgg')\n",
    "\n",
    "# 调整的函数来处理数据文件，这次包括检查有效年份条目\n",
    "def process_data_adjusted(lines):\n",
    "    # 初始化列表以保存处理后的数据\n",
    "    years = []\n",
    "    monthly_values = []\n",
    "\n",
    "    # 处理数据文件中的每一行\n",
    "    for line in lines:\n",
    "        # 将行分割成年份和每月的值\n",
    "        components = line.split()\n",
    "        # 检查第一个部分是否为年份（4位数）\n",
    "        if components[0].isdigit() and len(components[0]) == 4:\n",
    "            year = int(components[0])\n",
    "            values = []\n",
    "            for value in components[1:]:\n",
    "                if value != '-999.00':\n",
    "                    values.append(float(value))\n",
    "                else:\n",
    "                    values.append(np.nan)\n",
    "\n",
    "            #values = [float(value) if value != '-999.00' else np.nan for value in components[1:]]一样的\n",
    "\n",
    "            # 将处理后的数据追加到列表\n",
    "            years.extend([year] * 12)  # 每个月重复一次年份\n",
    "            monthly_values.extend(values)\n",
    "\n",
    "    return years, monthly_values\n",
    "\n",
    "\n",
    "# 读取整个文件并处理数据\n",
    "with open(r'D:\\matplotlib\\meiv2.data', 'r') as file:\n",
    "    lines = file.readlines()\n",
    "\n",
    "\n",
    "# 重新处理所有行以获取年份和每月的值\n",
    "years, monthly_values = process_data_adjusted(lines[1:])  # 跳过第一行，它是头部\n",
    "\n",
    "# 再次使用更正后的数据创建一个DataFrame\n",
    "data_length = len(monthly_values)\n",
    "monthly_index = pd.date_range(start=f'{years[0]}-01', periods=data_length, freq='M')\n",
    "df_mein_adjusted = pd.DataFrame(monthly_values, index=monthly_index, columns=['MEI Index'])\n",
    "\n",
    "\n",
    "# 函数来绘制AMO指数为柱状图，并突出特定时期\n",
    "def plot_mei_index(df, start_year, end_year):\n",
    "    # 筛选指定日期范围内的DataFrame\n",
    "    df_filtered = df[(df.index.year >= start_year) & (df.index.year <= end_year)]\n",
    "\n",
    "    # 为正值、负值和缺失值定义颜色\n",
    "    colors = np.where(df_filtered['MEI Index'] > 0, 'red', 'blue')\n",
    "    colors[df_filtered['MEI Index'].isna()] = 'grey'\n",
    "\n",
    "    # 创建柱状图\n",
    "    plt.figure(figsize=(12, 6))\n",
    "    plt.bar(df_filtered.index, df_filtered['MEI Index'], color=colors, width=15)\n",
    "\n",
    "    plt.xticks(df_filtered.index[::12], df_filtered.index[::12].strftime('%Y'), rotation=90)\n",
    "\n",
    "    # 添加标签和标题\n",
    "    plt.xlabel('year')\n",
    "    plt.ylabel('MEI')\n",
    "    plt.grid(True)\n",
    "    plt.show()\n",
    "\n",
    "\n",
    "# 绘制AMO指数从1856年到2023年，并突出显示\n",
    "plot_mei_index(df_mein_adjusted, 1979, 2024)\n",
    "plt.savefig(r'C:\\Users\\lenovo\\Desktop\\MEI.png')"
   ]
  },
  {
   "cell_type": "code",
   "execution_count": 8,
   "id": "65ec9b20",
   "metadata": {},
   "outputs": [
    {
     "ename": "AttributeError",
     "evalue": "'function' object has no attribute 'abspath'",
     "output_type": "error",
     "traceback": [
      "\u001b[1;31m---------------------------------------------------------------------------\u001b[0m",
      "\u001b[1;31mAttributeError\u001b[0m                            Traceback (most recent call last)",
      "Cell \u001b[1;32mIn[8], line 2\u001b[0m\n\u001b[0;32m      1\u001b[0m \u001b[38;5;28;01mimport\u001b[39;00m \u001b[38;5;21;01mos\u001b[39;00m\n\u001b[1;32m----> 2\u001b[0m \u001b[38;5;28mprint\u001b[39m(os\u001b[38;5;241m.\u001b[39mpath\u001b[38;5;241m.\u001b[39mabspath\u001b[38;5;241m.\u001b[39mabspath(\u001b[38;5;124m'\u001b[39m\u001b[38;5;124m.\u001b[39m\u001b[38;5;124m'\u001b[39m))\n",
      "\u001b[1;31mAttributeError\u001b[0m: 'function' object has no attribute 'abspath'"
     ]
    }
   ],
   "source": [
    "import os\n",
    "print(os.path.('.'))"
   ]
  },
  {
   "cell_type": "code",
   "execution_count": null,
   "id": "d1b32c73",
   "metadata": {},
   "outputs": [],
   "source": []
  }
 ],
 "metadata": {
  "kernelspec": {
   "display_name": "Python 3 (ipykernel)",
   "language": "python",
   "name": "python3"
  },
  "language_info": {
   "codemirror_mode": {
    "name": "ipython",
    "version": 3
   },
   "file_extension": ".py",
   "mimetype": "text/x-python",
   "name": "python",
   "nbconvert_exporter": "python",
   "pygments_lexer": "ipython3",
   "version": "3.11.3"
  }
 },
 "nbformat": 4,
 "nbformat_minor": 5
}
